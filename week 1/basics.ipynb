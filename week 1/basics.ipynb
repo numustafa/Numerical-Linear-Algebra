{
 "cells": [
  {
   "cell_type": "markdown",
   "metadata": {},
   "source": [
    "# Task 1.1 Numpy and Motplotlib Basics\n",
    "\n",
    "### Imports"
   ]
  },
  {
   "cell_type": "code",
   "execution_count": null,
   "metadata": {},
   "outputs": [],
   "source": [
    "import numpy as np\n",
    "import matplotlib.pyplot as plt"
   ]
  },
  {
   "cell_type": "markdown",
   "metadata": {},
   "source": [
    "a) Using the method `numpy.random.normal`, generate a vector $x \\in \\R^{100}$ and a matrix (array) $A \\in \\R^{150 \\times 100}$ with standard-normal distributed entries.\n",
    "Visualize the entries of $x$ with the methods `matplotlib.pyplot.plot` (as a graph) and `matplotlib.pyplot.hist` (as a histogram over $n = 30$ bins)."
   ]
  },
  {
   "cell_type": "code",
   "execution_count": 2,
   "metadata": {},
   "outputs": [],
   "source": [
    "n = 100\n",
    "\n",
    "x = \n",
    "A = "
   ]
  },
  {
   "cell_type": "code",
   "execution_count": null,
   "metadata": {},
   "outputs": [],
   "source": [
    "plt.plot( ... )"
   ]
  },
  {
   "cell_type": "code",
   "execution_count": null,
   "metadata": {},
   "outputs": [],
   "source": [
    "plt.hist( ... )"
   ]
  },
  {
   "cell_type": "markdown",
   "metadata": {},
   "source": [
    "b) Generate $x \\in \\mathbb{C}^{100}$ and $A \\in \\mathbb{C}^{150 \\times 100}$ such that real and imaginary parts of each entry are standard-normally distributed.\n",
    "Compute the matrix-vector product $y = Ax$."
   ]
  },
  {
   "cell_type": "code",
   "execution_count": 10,
   "metadata": {},
   "outputs": [],
   "source": [
    "x = \n",
    "A = \n",
    "\n",
    "y = "
   ]
  },
  {
   "cell_type": "markdown",
   "metadata": {},
   "source": [
    "c) Generate $A \\in \\mathbb{C}^{n \\times n}$ with standard-normally distributed entries.\n",
    "Compute the eigenvalues with `numpy.linalg.eig` for several instances of $A$ for $n \\in \\{10, 100, 500\\}$ and plot them using the method `matplotlib.pyplot.scatter`. \n",
    "Do you notice anything recurring regarding the eigenvalue distribution?"
   ]
  },
  {
   "cell_type": "code",
   "execution_count": null,
   "metadata": {},
   "outputs": [],
   "source": [
    "n = \n",
    "A = \n",
    "ev = "
   ]
  },
  {
   "cell_type": "code",
   "execution_count": null,
   "metadata": {},
   "outputs": [],
   "source": [
    "plt.scatter( ... )"
   ]
  }
 ],
 "metadata": {
  "kernelspec": {
   "display_name": "Python 3",
   "language": "python",
   "name": "python3"
  },
  "language_info": {
   "codemirror_mode": {
    "name": "ipython",
    "version": 3
   },
   "file_extension": ".py",
   "mimetype": "text/x-python",
   "name": "python",
   "nbconvert_exporter": "python",
   "pygments_lexer": "ipython3",
   "version": "3.11.6"
  }
 },
 "nbformat": 4,
 "nbformat_minor": 2
}
