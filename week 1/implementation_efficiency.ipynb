{
 "cells": [
  {
   "cell_type": "markdown",
   "metadata": {},
   "source": [
    "# Task 1.2 Efficiency of Implementation\n",
    "### Imports"
   ]
  },
  {
   "cell_type": "code",
   "execution_count": null,
   "metadata": {},
   "outputs": [],
   "source": [
    "import time\n",
    "import numpy as np"
   ]
  },
  {
   "cell_type": "markdown",
   "metadata": {},
   "source": [
    "For $u, v, w \\in \\mathbb{R}^{10.000}$, compute the product $u \\cdot v^T \\cdot w$ in both orders of associativity, i.e., $(u \\cdot v^T) \\cdot w$ and $u \\cdot (v^T \\cdot w)$.\n",
    "Measure execution time for both computations with the method `time.time` from the `time` library.\n",
    "Validate that both computations yield the same result by computing the relative errors between them."
   ]
  },
  {
   "cell_type": "code",
   "execution_count": 1,
   "metadata": {},
   "outputs": [],
   "source": [
    "u, v, w = np.random.normal(size=()), np.random.normal(size=()), np.random.normal(size=())\n"
   ]
  },
  {
   "cell_type": "code",
   "execution_count": null,
   "metadata": {},
   "outputs": [],
   "source": [
    "start = time.time()\n",
    "res1 = \n",
    "end = time.time()  \n",
    "print(end - start)"
   ]
  },
  {
   "cell_type": "code",
   "execution_count": null,
   "metadata": {},
   "outputs": [],
   "source": [
    "start = \n",
    "res2 = "
   ]
  },
  {
   "cell_type": "code",
   "execution_count": null,
   "metadata": {},
   "outputs": [],
   "source": [
    "rel_err = \n",
    "print(rel_err)"
   ]
  },
  {
   "cell_type": "markdown",
   "metadata": {},
   "source": [
    "b) Let $n \\in \\mathbb{N}$. For indices $1 \\leq i < j \\leq n$ and $\\theta \\in [0, 2 \\pi)$, a Givens rotation matrix is defined as\n",
    "$$\n",
    "G_{i,j}(\\theta) = \n",
    "\\begin{bmatrix}\n",
    "    I_{i-1} & & & & 0 \\\\\n",
    "    & c & 0 & - s & \\\\\n",
    "    & 0 & I_{j - i - 2} & 0 & \\\\\n",
    "        & s & 0 & c & \\\\\n",
    "    0 & & & & I_{n - j + 1}\n",
    "\\end{bmatrix},\n",
    "$$\n",
    "where $c = \\cos(\\theta)$ and $s = \\sin(\\theta)$.\n",
    "Implement the effective left action $G_{i,j}(\\theta) \\cdot A$ of a Givens rotation on a matrix $A \\in \\mathbb{R}^{n \\times n}$ and validate the result by explicit matrix multiplication.\n",
    "Measure execution time for $n \\in \\{100, 1000, 10.000\\}$ and $\\theta = 0.1$."
   ]
  },
  {
   "cell_type": "code",
   "execution_count": 78,
   "metadata": {},
   "outputs": [],
   "source": [
    "def givens_matmul(A, i, k, theta):\n",
    "    \"\"\"\n",
    "    Applies a Givens rotation to the input matrix A by explicitly constructing the rotation matrix.\n",
    "    A : np.ndarray\n",
    "        Input matrix to be left-multiplied by Givens rotation\n",
    "    i : int\n",
    "        Index of first rotation dimension\n",
    "    k : int\n",
    "        Index of second rotation dimension\n",
    "    theta : float\n",
    "        Angle of rotation in radians\n",
    "    \"\"\"\n",
    "    \n",
    "    assert i < k\n",
    "    \n",
    "    G = np.eye(A.shape[0])\n",
    "    G[i,i] = \n",
    "    \n",
    "    return G @ A\n",
    "\n",
    "def givens(A, i, k, theta):\n",
    "    \"\"\"\n",
    "    Applies an effective Givens rotation to the input matrix A.\n",
    "    A : np.ndarray\n",
    "        Input matrix to be left-multiplied by Givens rotation\n",
    "    i : int\n",
    "        Index of first rotation dimension\n",
    "    k : int\n",
    "        Index of second rotation dimension\n",
    "    theta : float\n",
    "        Angle of rotation in radians\n",
    "    \"\"\"\n",
    "    \n",
    "    assert i < k\n",
    "    \n",
    "    rows = \n",
    "    \n",
    "    A[[i, k], :] = rows\n",
    "    return A"
   ]
  },
  {
   "cell_type": "code",
   "execution_count": null,
   "metadata": {},
   "outputs": [],
   "source": [
    "n = \n",
    "A = np.random.normal(size=(n, n))\n",
    "i, k = np.random.randint(0, n, size=2)\n",
    "\n",
    "theta = "
   ]
  },
  {
   "cell_type": "code",
   "execution_count": null,
   "metadata": {},
   "outputs": [],
   "source": [
    "start = time.time()\n",
    "res2 = givens_matmul(A, i, k, theta)\n",
    "end = time.time()\n",
    "print(end - start)"
   ]
  },
  {
   "cell_type": "code",
   "execution_count": null,
   "metadata": {},
   "outputs": [],
   "source": [
    "start = time.time()\n",
    "res1 = givens(A, i, k, theta)\n",
    "end = time.time()\n",
    "print(end - start)"
   ]
  },
  {
   "cell_type": "code",
   "execution_count": null,
   "metadata": {},
   "outputs": [],
   "source": [
    "rel_err = \n",
    "print(rel_err)"
   ]
  }
 ],
 "metadata": {
  "kernelspec": {
   "display_name": "Python 3",
   "language": "python",
   "name": "python3"
  },
  "language_info": {
   "codemirror_mode": {
    "name": "ipython",
    "version": 3
   },
   "file_extension": ".py",
   "mimetype": "text/x-python",
   "name": "python",
   "nbconvert_exporter": "python",
   "pygments_lexer": "ipython3",
   "version": "3.11.6"
  }
 },
 "nbformat": 4,
 "nbformat_minor": 2
}
