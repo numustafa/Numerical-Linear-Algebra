{
 "cells": [
  {
   "cell_type": "markdown",
   "metadata": {},
   "source": [
    "# Task 1.3 Gram-Schmidt Orthogonalization\n",
    "\n",
    "### Imports"
   ]
  },
  {
   "cell_type": "code",
   "execution_count": 1,
   "metadata": {},
   "outputs": [],
   "source": [
    "import numpy as np\n",
    "import matplotlib.pyplot as plt"
   ]
  },
  {
   "cell_type": "markdown",
   "metadata": {},
   "source": [
    "We explore the differences between the classical and the modified Gram-Schmidt algorithm.\n",
    "Given linearly independent vectors $v_1, \\ldots, v_k \\in \\mathbb{C}^n$, both algorithms \n",
    "compute orthonormal vectors $q_1, \\ldots, q_k \\in \\mathbb{C}^n$ satisfying\n",
    "$$\n",
    "\\mathrm{Span} \\{ v_1, \\ldots, v_j \\} = \\mathrm{Span} \\{ q_1, \\ldots, q_j \\}, \\quad j = 1, \n",
    "\\ldots, k.\n",
    "$$\n",
    "\n",
    "##### Classical Gram-Schmidt algorithm\n",
    "```\n",
    "for j = 1, ..., k do\n",
    "  q_j_hat = v_j\n",
    "  for i = 1, ..., j - 1 do\n",
    "    q_j_hat = q_j_hat - (v_j, q_i) q_i\n",
    "  end for\n",
    "  q_j = q_j_hat / ||q_j_hat||_2\n",
    "end for\n",
    "```\n",
    "##### Modified Gram-Schmidt algorithm\n",
    "```\n",
    "for j = 1, ..., k do\n",
    "  q_j_hat = v_j\n",
    "  for i = 1, ..., j - 1 do\n",
    "    q_j_hat = q_j_hat - (q_j_hat, q_i) q_i\n",
    "  end for\n",
    "  q_j = q_j_hat / ||q_j_hat||_2\n",
    "end for\n",
    "```\n",
    "\n",
    "Implement both algorithms. The quantity $F(A) = \\| I_n - A^H A\\|_F$ (you can also take any other norm) measures how far $A$ is from having orthonormal columns. Write a function that computes this quantity and perform the following experiment: For each $j = 1, 2, \\ldots, 10$, generate $V \\in \\mathbb{C}^{1000 \\times 100j}$, run both algorithms on $V$ and compare the errors. Discuss the results."
   ]
  },
  {
   "cell_type": "code",
   "execution_count": 43,
   "metadata": {},
   "outputs": [],
   "source": [
    "def classical_gs(V):\n",
    "    \"\"\"\n",
    "    Perform the Classical Gram-Schmidt orthogonalization process on a given matrix V.\n",
    "    Parameters:\n",
    "    V (numpy.ndarray): A matrix of shape (m, n) where m is the number of rows and n is the number of columns.\n",
    "    Returns:\n",
    "    numpy.ndarray: An orthogonal matrix Q of the same shape as V.\n",
    "    \"\"\"\n",
    "    k = V.shape[1]\n",
    "    Q = np.zeros_like(V)\n",
    "    for j in range(k):\n",
    "        \n",
    "    return Q\n",
    "\n",
    "def modified_gs(V):\n",
    "    \"\"\"\n",
    "    Perform the Modified Gram-Schmidt orthogonalization process on the columns of matrix V.\n",
    "    Parameters:\n",
    "    V (numpy.ndarray): A matrix of shape (m, n) where m is the number of rows and n is the number of columns.\n",
    "    Returns:\n",
    "    numpy.ndarray: An orthogonal matrix Q of the same shape as V.\n",
    "    \"\"\"\n",
    "    k = V.shape[1]\n",
    "    Q = np.zeros_like(V)\n",
    "    for j in range(k):\n",
    "       \n",
    "    return Q"
   ]
  },
  {
   "cell_type": "code",
   "execution_count": null,
   "metadata": {},
   "outputs": [],
   "source": [
    "A = np.random.normal(size=(1000, 100)) + 1.j * np.random.normal(size=(1000, 100))\n",
    "O_1 = classical_gs(A)\n",
    "O_2 = modified_gs(A)\n",
    "rel_err_1 = \n",
    "rel_err_2 = \n",
    "\n",
    "print(f\"Relative error for Classical GS: {rel_err_1}\")\n",
    "print(f\"Relative error for Modified GS: {rel_err_2}\")"
   ]
  },
  {
   "cell_type": "markdown",
   "metadata": {},
   "source": [
    "### Plot of Frobenius Error"
   ]
  },
  {
   "cell_type": "code",
   "execution_count": null,
   "metadata": {},
   "outputs": [],
   "source": [
    "class_errors = []\n",
    "modified_errors = []\n",
    "\n",
    "for k in range(10):\n",
    "    s = (1000, (k + 1) * 100)\n",
    "    A = np.random.normal(size=s) + 1.j * np.random.normal(size=s)\n",
    "    O_1 = classical_gs(A)\n",
    "    O_2 = modified_gs(A)\n",
    "    \n",
    "x_range = np.arange(1, 11)\n",
    "    \n",
    "plt.plot()"
   ]
  }
 ],
 "metadata": {
  "kernelspec": {
   "display_name": "Python 3",
   "language": "python",
   "name": "python3"
  },
  "language_info": {
   "codemirror_mode": {
    "name": "ipython",
    "version": 3
   },
   "file_extension": ".py",
   "mimetype": "text/x-python",
   "name": "python",
   "nbconvert_exporter": "python",
   "pygments_lexer": "ipython3",
   "version": "3.11.6"
  }
 },
 "nbformat": 4,
 "nbformat_minor": 2
}
